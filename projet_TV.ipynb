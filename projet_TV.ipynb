{
 "cells": [
  {
   "cell_type": "code",
   "execution_count": 11,
   "metadata": {},
   "outputs": [],
   "source": [
    "from PIL import Image\n",
    "from math import sqrt\n",
    "from math import log\n",
    "from math import fabs\n",
    "import matplotlib.pyplot as plt\n",
    "import cv2\n",
    "import numpy as np\n",
    "import os"
   ]
  },
  {
   "cell_type": "markdown",
   "metadata": {},
   "source": [
    "## Transformer la video en plusieurs Frame"
   ]
  },
  {
   "cell_type": "code",
   "execution_count": null,
   "metadata": {},
   "outputs": [],
   "source": [
    "# lire la video dans un fichier \n",
    "cap = cv2.VideoCapture('test1.mp4')\n",
    "\n",
    "try:\n",
    "    if not os.path.exists('data'):\n",
    "        os.makedirs('data')\n",
    "except OSError:\n",
    "    print ('Error: Creating directory of data')\n",
    "c=0\n",
    "currentFrame = 0\n",
    "currentFrame1= 0\n",
    "currentFrame2= 0\n",
    "while(True):\n",
    "    # Capturer frame par frame\n",
    "    ret, frame = cap.read()\n",
    "\n",
    "    # Enregistre l'image du frame actuelle dans un fichier jpg\n",
    "    name = './data/frame' + str(currentFrame) + str(currentFrame1) + str(currentFrame2) + '.jpg'\n",
    "    print ('Creating...' + name)\n",
    "    cv2.imwrite(name, frame)\n",
    "    # Enregistre l'image du frame actuelle dans notre dossier pour lire les frames jpg\n",
    "    name = './frame' + str(currentFrame) + str(currentFrame1) + str(currentFrame2) + '.jpg'\n",
    "    print ('Creating...' + name)\n",
    "    cv2.imwrite(name, frame)\n",
    "    # Pour arrêter les images en double\n",
    "    if currentFrame2 < 9:\n",
    "        currentFrame2 += 1\n",
    "    else:\n",
    "        currentFrame2=0\n",
    "        currentFrame1+=1\n",
    "        c=1\n",
    "    if currentFrame1 < 9 and c==1:\n",
    "         c=0\n",
    "    elif c==1:\n",
    "        currentFrame1=0\n",
    "        currentFrame+=1\n",
    "        c=0\n",
    "# Lorsque tout est terminé, relâchez la capture\n",
    "cap.release()\n",
    "cv2.destroyAllWindows()"
   ]
  },
  {
   "cell_type": "markdown",
   "metadata": {},
   "source": [
    "## mettre les frames de video en ordre dans une liste"
   ]
  },
  {
   "cell_type": "code",
   "execution_count": 13,
   "metadata": {},
   "outputs": [],
   "source": [
    "data=[]\n",
    "for filename in os.listdir(f'data'):\n",
    "    data.append(filename)\n",
    " # mettre les frames dans une liste "
   ]
  },
  {
   "cell_type": "markdown",
   "metadata": {},
   "source": [
    "## Fonction qui construire l'histogramme de notre frames"
   ]
  },
  {
   "cell_type": "code",
   "execution_count": 14,
   "metadata": {},
   "outputs": [],
   "source": [
    "def buildHistogram(im):\n",
    "    pix = im.load()\n",
    "    if (im.mode == \"RGB\"):\n",
    "        R = [0]*256\n",
    "        G = [0]*256\n",
    "        B = [0]*256\n",
    "        histo1=[]\n",
    "        for i in range(0, im.size[0]):\n",
    "            for j in range(0, im.size[1]):\n",
    "                val = pix[i, j]\n",
    "                R[val[0]] += 1\n",
    "                G[val[1]] += 1\n",
    "                B[val[2]] += 1\n",
    "        histo = (R, G, B)\n",
    "        return histo;\n",
    "    elif im.mode == \"HSV\":\n",
    "        H = [0]*360\n",
    "        S = [0]*100\n",
    "        V = [0]*100\n",
    "        for i in range(0, im.size[0]):\n",
    "            for j in range(0, im.size[1]):\n",
    "                val = pix[i, j]\n",
    "                H[val[0]] += 1\n",
    "                S[val[1]] += 1\n",
    "                V[val[2]] += 1\n",
    "        histo = (H, S, V)\n",
    "        return histo;\n",
    "    else:\n",
    "        print(\"Votre image n'est pas en RGB ou en HSV\")\n",
    "    "
   ]
  },
  {
   "cell_type": "markdown",
   "metadata": {},
   "source": [
    "## Fonction qui normalise les histogrammes"
   ]
  },
  {
   "cell_type": "code",
   "execution_count": 15,
   "metadata": {},
   "outputs": [],
   "source": [
    "def normHisto(histo):\n",
    "    r = []\n",
    "    s = 0.0\n",
    "    for h in histo:\n",
    "        s += h\n",
    "    for h in histo:\n",
    "        r.append(h/s)\n",
    "    return r"
   ]
  },
  {
   "cell_type": "markdown",
   "metadata": {},
   "source": [
    "## fonction qui calcule la distance de Bhattacharyya entre deux histogrammes"
   ]
  },
  {
   "cell_type": "code",
   "execution_count": 16,
   "metadata": {},
   "outputs": [],
   "source": [
    "def comparaisonHistoBhattacharyya(histoA, histoB):\n",
    "    hA = normHisto(histoA)   # normaliser l'histogramme A\n",
    "    hB = normHisto(histoB)   # normaliser l'histogramme B\n",
    "    distance = 0.\n",
    "    for i in range(0, 255):\n",
    "        distance += (hA[i] * hB[i]) ** 0.5\n",
    "    newDistance = -log(distance)   \n",
    "    # calculer la distance de Bhattacharyya \n",
    "    return newDistance"
   ]
  },
  {
   "cell_type": "markdown",
   "metadata": {},
   "source": [
    "## fonction qui compare les histogrammes de deux images"
   ]
  },
  {
   "cell_type": "code",
   "execution_count": 17,
   "metadata": {},
   "outputs": [],
   "source": [
    "def comparaisonHisto3channels(histoA, histoB):\n",
    "    resultsBatta = []\n",
    "    moyenneBatta = 0\n",
    "    for c in range(3):\n",
    "        # le resultat du calcule de la distance de Bhattacharyya entre histoA[c] et histoB[c]\n",
    "        resultsBatta.append(comparaisonHistoBhattacharyya(histoA[c], histoB[c])) \n",
    "    for i in range(0, 3):\n",
    "        moyenneBatta += resultsBatta[i]\n",
    "    moyenneBatta /= 3.               # calculer la moyenne des 3 distances de Bhattacharyya  \n",
    "    r=round((moyenneBatta * 100), 2)\n",
    "    return r"
   ]
  },
  {
   "cell_type": "markdown",
   "metadata": {},
   "source": [
    "## fonction qui compare les histogrammes de deux frames succesives de la video et donner le resulat entre deux frames ( est ce qu'il ya un changement de plan ou non)"
   ]
  },
  {
   "cell_type": "code",
   "execution_count": 18,
   "metadata": {},
   "outputs": [],
   "source": [
    "def execution():\n",
    "    for i in range(len(data)):\n",
    "        histo1=buildHistogram(Image.open(data[i])) #construire l'histogramme de l'image \n",
    "        histo2=buildHistogram(Image.open(data[i+1])) #construire l'histogramme de l'image suivante\n",
    "        compahisto=comparaisonHisto3channels(histo1,histo2) # comparer les histogrammes de deux images successives\n",
    "        \n",
    "        if compahisto >= 1:\n",
    "            print(\"détection de changement du plan entre frame\",i,\"et frame\",i+1)\n",
    "        else:\n",
    "            print(\"pas de changement de plan entre frame\",i,\"et frame\",i+1)\n",
    "    return 0"
   ]
  },
  {
   "cell_type": "markdown",
   "metadata": {},
   "source": [
    "# détection de changement du plan"
   ]
  },
  {
   "cell_type": "code",
   "execution_count": null,
   "metadata": {},
   "outputs": [],
   "source": [
    "execution()"
   ]
  }
 ],
 "metadata": {
  "kernelspec": {
   "display_name": "Python 3",
   "language": "python",
   "name": "python3"
  },
  "language_info": {
   "codemirror_mode": {
    "name": "ipython",
    "version": 3
   },
   "file_extension": ".py",
   "mimetype": "text/x-python",
   "name": "python",
   "nbconvert_exporter": "python",
   "pygments_lexer": "ipython3",
   "version": "3.8.3"
  }
 },
 "nbformat": 4,
 "nbformat_minor": 4
}
